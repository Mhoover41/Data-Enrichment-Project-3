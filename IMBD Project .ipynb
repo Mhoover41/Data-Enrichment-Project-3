{
 "cells": [
  {
   "cell_type": "code",
   "execution_count": 7,
   "id": "c10590c7",
   "metadata": {},
   "outputs": [],
   "source": [
    "basics_url=\"https://datasets.imdbws.com/title.basics.tsv.gz\"\n",
    "aka_url = basics_url=\"https://datasets.imdbws.com/title.akas.tsv.gz\"\n",
    "ratings_url=\"https://datasets.imdbws.com/title.ratings.tsv.gz\""
   ]
  },
  {
   "cell_type": "code",
   "execution_count": null,
   "id": "5785680a",
   "metadata": {},
   "outputs": [],
   "source": [
    "basics = pd.read_csv(basics_url, sep='\\t', low_memory=False)\n",
    "\n",
    "aka= basics = pd.read_csv(aka_url, sep='\\t', low_memory=False)\n",
    "\n",
    "ratings = pd.read_csv(ratings_url, sep='\\t', low_memory=False)"
   ]
  }
 ],
 "metadata": {
  "kernelspec": {
   "display_name": "Python (dojo-env)",
   "language": "python",
   "name": "dojo-env"
  },
  "language_info": {
   "codemirror_mode": {
    "name": "ipython",
    "version": 3
   },
   "file_extension": ".py",
   "mimetype": "text/x-python",
   "name": "python",
   "nbconvert_exporter": "python",
   "pygments_lexer": "ipython3",
   "version": "3.9.15"
  },
  "toc": {
   "base_numbering": 1,
   "nav_menu": {},
   "number_sections": true,
   "sideBar": true,
   "skip_h1_title": false,
   "title_cell": "Table of Contents",
   "title_sidebar": "Contents",
   "toc_cell": false,
   "toc_position": {},
   "toc_section_display": true,
   "toc_window_display": false
  }
 },
 "nbformat": 4,
 "nbformat_minor": 5
}
