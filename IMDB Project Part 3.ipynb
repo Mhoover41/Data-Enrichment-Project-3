{
 "cells": [
  {
   "cell_type": "markdown",
   "id": "6244092e",
   "metadata": {},
   "source": [
    "# Part 3\n",
    "For part 3 of the project you will be practicing applying an E.T.L process on your previously saved movie data. Specifically, you will create a new MySQL database after preparing the data for a relational database. You will export your database to a .sql file in your repository using MySQL Workbench.\n",
    "\n",
    "## Specifications - Database\n",
    "- Your stakeholder wants you to take the data you have been cleaning and collecting in Parts 1 & 2 of the project and wants you to create a MySQL database for them.\n",
    "\n",
    "- Specifically, they want the data from the following files included in your database:\n",
    "\n",
    "- Title Basics:\n",
    "    - Movie ID (tconst)\n",
    "    - Primary Title\n",
    "    - Start Year\n",
    "    - Runtime (in Minutes)\n",
    "    - Genres\n",
    "\n",
    "- Title Ratings\n",
    "    - Movie ID (tconst)\n",
    "    - Average Movie Rating\n",
    "    - Number of Votes\n",
    "\n",
    "- The TMDB API Results (multiple files)\n",
    "    - Movie ID\n",
    "    - Revenue\n",
    "    - Budget\n",
    "    - Certification (MPAA Rating)"
   ]
  },
  {
   "cell_type": "markdown",
   "id": "0d7e37bb",
   "metadata": {},
   "source": [
    "- You should normalize the tables as best you can before adding them to your new database.\n",
    "\n",
    "    - Note: an important exception to their request is that they would like you to keep all of the data from the TMDB API in 1 table together (even though it will not be perfectly normalized).\n",
    "    - You only need to keep the imdb_id, revenue, budget, and certification columns"
   ]
  },
  {
   "cell_type": "markdown",
   "id": "01b338db",
   "metadata": {},
   "source": [
    "## Required Transformation Steps for Title Basics:\n",
    "- Normalize Genre:\n",
    "\n",
    "    - Convert the single string of genres from title basics into 2 new tables.\n",
    "        1. title_genres: with the columns:\n",
    "\n",
    "            - tconst\n",
    "            - genre_id\n",
    "        2. genres:\n",
    "\n",
    "            - genre_id\n",
    "            - genre_name\n",
    "            \n",
    "- Discard unnecessary information:\n",
    "\n",
    "    - For the title basics table, drop the following columns:\n",
    "          \n",
    "        - \"original_title\" (we will use the primary title column instead)\n",
    "        - \"isAdult\" (\"Adult\" will show up in the genres so this is redundant information).\n",
    "        - \"titleType\" (every row will be a movie).\n",
    "        - \"genres\" and other variants of genre (genre is now represented in the 2 new tables described above.\n",
    "    - Do not include the title_akas table in your SQL database.\n",
    "        - You have already filtered out the desired movies using this table, and the remaining data is mostly nulls and not of interest to the stakeholder."
   ]
  },
  {
   "cell_type": "markdown",
   "id": "aecf3ea9",
   "metadata": {},
   "source": [
    "## MySQL Database Requirements\n",
    "   \n",
    "   - Use sqlalchemy with Pandas to execute your SQL queries inside your notebook.\n",
    "\n",
    "    - Create a new database on your MySQL server and call it \"movies.\"\n",
    "\n",
    "    - Make sure to have the following tables in your \"movies\" database:\n",
    "    \n",
    "        - title_basics\n",
    "        - title_ratings\n",
    "        - title_genres\n",
    "        - genres\n",
    "        - tmdb_data"
   ]
  },
  {
   "cell_type": "markdown",
   "id": "25fe4c98",
   "metadata": {},
   "source": [
    "  - Make sure to set a Primary Key for each table that isn't a joiner table (e.g., title_genres is a joiner table).\n",
    "   \n",
    "  - After creating each table, show the first 5 rows of that table using a SQL query.\n",
    "\n",
    "  - Make sure to run the \"SHOW TABLES\" SQL query at the end of your notebook to show that all required tables have been created."
   ]
  },
  {
   "cell_type": "markdown",
   "id": "4f2e218a",
   "metadata": {},
   "source": [
    "## Import Libraries"
   ]
  },
  {
   "cell_type": "code",
   "execution_count": 1,
   "id": "cd4486b9",
   "metadata": {},
   "outputs": [],
   "source": [
    "# Imports\n",
    "import numpy as np\n",
    "import pandas as pd\n",
    "import matplotlib.pyplot as plt\n",
    "import seaborn as sns\n",
    "import json\n",
    "\n",
    "import pymysql\n",
    "pymysql.install_as_MySQLdb()\n",
    "from sqlalchemy.types import *\n",
    "from sqlalchemy_utils import create_database, database_exists\n",
    "from sqlalchemy import create_engine"
   ]
  },
  {
   "cell_type": "markdown",
   "id": "d14fd2ac",
   "metadata": {},
   "source": [
    "## Normalize genres"
   ]
  },
  {
   "cell_type": "markdown",
   "id": "f19db6d8",
   "metadata": {},
   "source": [
    "### title_basics Dataframe"
   ]
  },
  {
   "cell_type": "code",
   "execution_count": 3,
   "id": "1805f8f2",
   "metadata": {},
   "outputs": [],
   "source": [
    "# Load the dataframe from the csv file\n",
    "title_basics_df = pd.read_csv('Data/title_basics.csv.gz')"
   ]
  },
  {
   "cell_type": "code",
   "execution_count": 4,
   "id": "0a898f22",
   "metadata": {},
   "outputs": [
    {
     "data": {
      "text/html": [
       "<div>\n",
       "<style scoped>\n",
       "    .dataframe tbody tr th:only-of-type {\n",
       "        vertical-align: middle;\n",
       "    }\n",
       "\n",
       "    .dataframe tbody tr th {\n",
       "        vertical-align: top;\n",
       "    }\n",
       "\n",
       "    .dataframe thead th {\n",
       "        text-align: right;\n",
       "    }\n",
       "</style>\n",
       "<table border=\"1\" class=\"dataframe\">\n",
       "  <thead>\n",
       "    <tr style=\"text-align: right;\">\n",
       "      <th></th>\n",
       "      <th>tconst</th>\n",
       "      <th>titleType</th>\n",
       "      <th>primaryTitle</th>\n",
       "      <th>originalTitle</th>\n",
       "      <th>isAdult</th>\n",
       "      <th>startYear</th>\n",
       "      <th>runtimeMinutes</th>\n",
       "      <th>genres</th>\n",
       "    </tr>\n",
       "  </thead>\n",
       "  <tbody>\n",
       "    <tr>\n",
       "      <th>0</th>\n",
       "      <td>tt0035423</td>\n",
       "      <td>movie</td>\n",
       "      <td>Kate &amp; Leopold</td>\n",
       "      <td>Kate &amp; Leopold</td>\n",
       "      <td>0</td>\n",
       "      <td>2001.0</td>\n",
       "      <td>118</td>\n",
       "      <td>Comedy,Fantasy,Romance</td>\n",
       "    </tr>\n",
       "    <tr>\n",
       "      <th>1</th>\n",
       "      <td>tt0043139</td>\n",
       "      <td>movie</td>\n",
       "      <td>Life of a Beijing Policeman</td>\n",
       "      <td>Wo zhe yi bei zi</td>\n",
       "      <td>0</td>\n",
       "      <td>2013.0</td>\n",
       "      <td>120</td>\n",
       "      <td>Drama,History</td>\n",
       "    </tr>\n",
       "    <tr>\n",
       "      <th>2</th>\n",
       "      <td>tt0062336</td>\n",
       "      <td>movie</td>\n",
       "      <td>The Tango of the Widower and Its Distorting Mi...</td>\n",
       "      <td>El tango del viudo y su espejo deformante</td>\n",
       "      <td>0</td>\n",
       "      <td>2020.0</td>\n",
       "      <td>70</td>\n",
       "      <td>Drama</td>\n",
       "    </tr>\n",
       "    <tr>\n",
       "      <th>3</th>\n",
       "      <td>tt0069049</td>\n",
       "      <td>movie</td>\n",
       "      <td>The Other Side of the Wind</td>\n",
       "      <td>The Other Side of the Wind</td>\n",
       "      <td>0</td>\n",
       "      <td>2018.0</td>\n",
       "      <td>122</td>\n",
       "      <td>Drama</td>\n",
       "    </tr>\n",
       "    <tr>\n",
       "      <th>4</th>\n",
       "      <td>tt0088751</td>\n",
       "      <td>movie</td>\n",
       "      <td>The Naked Monster</td>\n",
       "      <td>The Naked Monster</td>\n",
       "      <td>0</td>\n",
       "      <td>2005.0</td>\n",
       "      <td>100</td>\n",
       "      <td>Comedy,Horror,Sci-Fi</td>\n",
       "    </tr>\n",
       "  </tbody>\n",
       "</table>\n",
       "</div>"
      ],
      "text/plain": [
       "      tconst titleType                                       primaryTitle  \\\n",
       "0  tt0035423     movie                                     Kate & Leopold   \n",
       "1  tt0043139     movie                        Life of a Beijing Policeman   \n",
       "2  tt0062336     movie  The Tango of the Widower and Its Distorting Mi...   \n",
       "3  tt0069049     movie                         The Other Side of the Wind   \n",
       "4  tt0088751     movie                                  The Naked Monster   \n",
       "\n",
       "                               originalTitle  isAdult  startYear  \\\n",
       "0                             Kate & Leopold        0     2001.0   \n",
       "1                           Wo zhe yi bei zi        0     2013.0   \n",
       "2  El tango del viudo y su espejo deformante        0     2020.0   \n",
       "3                 The Other Side of the Wind        0     2018.0   \n",
       "4                          The Naked Monster        0     2005.0   \n",
       "\n",
       "   runtimeMinutes                  genres  \n",
       "0             118  Comedy,Fantasy,Romance  \n",
       "1             120           Drama,History  \n",
       "2              70                   Drama  \n",
       "3             122                   Drama  \n",
       "4             100    Comedy,Horror,Sci-Fi  "
      ]
     },
     "execution_count": 4,
     "metadata": {},
     "output_type": "execute_result"
    }
   ],
   "source": [
    "# Display the first (5) rows\n",
    "title_basics_df.head()"
   ]
  },
  {
   "cell_type": "code",
   "execution_count": 9,
   "id": "ee9888d6",
   "metadata": {},
   "outputs": [
    {
     "data": {
      "text/plain": [
       "str"
      ]
     },
     "execution_count": 9,
     "metadata": {},
     "output_type": "execute_result"
    }
   ],
   "source": [
    "type('genres')\n"
   ]
  },
  {
   "cell_type": "markdown",
   "id": "b97b03d5",
   "metadata": {},
   "source": [
    "- We are going to convert these strings into lists of strings into a new 'genres_split' column."
   ]
  },
  {
   "cell_type": "code",
   "execution_count": 10,
   "id": "ba4d7f63",
   "metadata": {},
   "outputs": [],
   "source": [
    "# Convert strings into lists of strings in a new 'genres_split' column\n",
    "title_basics_df['genres_split'] = title_basics_df['genres'].str.split(',')"
   ]
  },
  {
   "cell_type": "code",
   "execution_count": 11,
   "id": "080bb6a2",
   "metadata": {},
   "outputs": [
    {
     "data": {
      "text/plain": [
       "0           [Comedy, Fantasy, Romance]\n",
       "1                     [Drama, History]\n",
       "2                              [Drama]\n",
       "3                              [Drama]\n",
       "4             [Comedy, Horror, Sci-Fi]\n",
       "                     ...              \n",
       "81798                          [Drama]\n",
       "81799         [Comedy, Drama, Fantasy]\n",
       "81800                          [Drama]\n",
       "81801    [Action, Adventure, Thriller]\n",
       "81802                 [Drama, History]\n",
       "Name: genres_split, Length: 81803, dtype: object"
      ]
     },
     "execution_count": 11,
     "metadata": {},
     "output_type": "execute_result"
    }
   ],
   "source": [
    "title_basics_df['genres_split']"
   ]
  },
  {
   "cell_type": "code",
   "execution_count": 13,
   "id": "0b453a21",
   "metadata": {},
   "outputs": [
    {
     "data": {
      "text/html": [
       "<div>\n",
       "<style scoped>\n",
       "    .dataframe tbody tr th:only-of-type {\n",
       "        vertical-align: middle;\n",
       "    }\n",
       "\n",
       "    .dataframe tbody tr th {\n",
       "        vertical-align: top;\n",
       "    }\n",
       "\n",
       "    .dataframe thead th {\n",
       "        text-align: right;\n",
       "    }\n",
       "</style>\n",
       "<table border=\"1\" class=\"dataframe\">\n",
       "  <thead>\n",
       "    <tr style=\"text-align: right;\">\n",
       "      <th></th>\n",
       "      <th>tconst</th>\n",
       "      <th>titleType</th>\n",
       "      <th>primaryTitle</th>\n",
       "      <th>originalTitle</th>\n",
       "      <th>isAdult</th>\n",
       "      <th>startYear</th>\n",
       "      <th>runtimeMinutes</th>\n",
       "      <th>genres</th>\n",
       "      <th>genres_split</th>\n",
       "    </tr>\n",
       "  </thead>\n",
       "  <tbody>\n",
       "    <tr>\n",
       "      <th>0</th>\n",
       "      <td>tt0035423</td>\n",
       "      <td>movie</td>\n",
       "      <td>Kate &amp; Leopold</td>\n",
       "      <td>Kate &amp; Leopold</td>\n",
       "      <td>0</td>\n",
       "      <td>2001.0</td>\n",
       "      <td>118</td>\n",
       "      <td>Comedy,Fantasy,Romance</td>\n",
       "      <td>[Comedy, Fantasy, Romance]</td>\n",
       "    </tr>\n",
       "    <tr>\n",
       "      <th>1</th>\n",
       "      <td>tt0043139</td>\n",
       "      <td>movie</td>\n",
       "      <td>Life of a Beijing Policeman</td>\n",
       "      <td>Wo zhe yi bei zi</td>\n",
       "      <td>0</td>\n",
       "      <td>2013.0</td>\n",
       "      <td>120</td>\n",
       "      <td>Drama,History</td>\n",
       "      <td>[Drama, History]</td>\n",
       "    </tr>\n",
       "  </tbody>\n",
       "</table>\n",
       "</div>"
      ],
      "text/plain": [
       "      tconst titleType                 primaryTitle     originalTitle  \\\n",
       "0  tt0035423     movie               Kate & Leopold    Kate & Leopold   \n",
       "1  tt0043139     movie  Life of a Beijing Policeman  Wo zhe yi bei zi   \n",
       "\n",
       "   isAdult  startYear  runtimeMinutes                  genres  \\\n",
       "0        0     2001.0             118  Comedy,Fantasy,Romance   \n",
       "1        0     2013.0             120           Drama,History   \n",
       "\n",
       "                 genres_split  \n",
       "0  [Comedy, Fantasy, Romance]  \n",
       "1            [Drama, History]  "
      ]
     },
     "execution_count": 13,
     "metadata": {},
     "output_type": "execute_result"
    }
   ],
   "source": [
    "# Display the first (2) rows\n",
    "title_basics_df.head(2)"
   ]
  },
  {
   "cell_type": "markdown",
   "id": "82537b23",
   "metadata": {},
   "source": [
    "- We will then use .explode() to separate the list of genres into new rows: one row for each genre a movie belonged to."
   ]
  },
  {
   "cell_type": "code",
   "execution_count": 14,
   "id": "f3f2eef3",
   "metadata": {},
   "outputs": [],
   "source": [
    "# Create a new dataframe with a row\n",
    "# for each genre a movie belongs to by using .explode\n",
    "exploded_genres_df = title_basics_df.explode('genres_split')"
   ]
  },
  {
   "cell_type": "code",
   "execution_count": 17,
   "id": "cb02f01c",
   "metadata": {},
   "outputs": [
    {
     "data": {
      "text/html": [
       "<div>\n",
       "<style scoped>\n",
       "    .dataframe tbody tr th:only-of-type {\n",
       "        vertical-align: middle;\n",
       "    }\n",
       "\n",
       "    .dataframe tbody tr th {\n",
       "        vertical-align: top;\n",
       "    }\n",
       "\n",
       "    .dataframe thead th {\n",
       "        text-align: right;\n",
       "    }\n",
       "</style>\n",
       "<table border=\"1\" class=\"dataframe\">\n",
       "  <thead>\n",
       "    <tr style=\"text-align: right;\">\n",
       "      <th></th>\n",
       "      <th>tconst</th>\n",
       "      <th>titleType</th>\n",
       "      <th>primaryTitle</th>\n",
       "      <th>originalTitle</th>\n",
       "      <th>isAdult</th>\n",
       "      <th>startYear</th>\n",
       "      <th>runtimeMinutes</th>\n",
       "      <th>genres</th>\n",
       "      <th>genres_split</th>\n",
       "    </tr>\n",
       "  </thead>\n",
       "  <tbody>\n",
       "    <tr>\n",
       "      <th>0</th>\n",
       "      <td>tt0035423</td>\n",
       "      <td>movie</td>\n",
       "      <td>Kate &amp; Leopold</td>\n",
       "      <td>Kate &amp; Leopold</td>\n",
       "      <td>0</td>\n",
       "      <td>2001.0</td>\n",
       "      <td>118</td>\n",
       "      <td>Comedy,Fantasy,Romance</td>\n",
       "      <td>Comedy</td>\n",
       "    </tr>\n",
       "    <tr>\n",
       "      <th>0</th>\n",
       "      <td>tt0035423</td>\n",
       "      <td>movie</td>\n",
       "      <td>Kate &amp; Leopold</td>\n",
       "      <td>Kate &amp; Leopold</td>\n",
       "      <td>0</td>\n",
       "      <td>2001.0</td>\n",
       "      <td>118</td>\n",
       "      <td>Comedy,Fantasy,Romance</td>\n",
       "      <td>Fantasy</td>\n",
       "    </tr>\n",
       "    <tr>\n",
       "      <th>0</th>\n",
       "      <td>tt0035423</td>\n",
       "      <td>movie</td>\n",
       "      <td>Kate &amp; Leopold</td>\n",
       "      <td>Kate &amp; Leopold</td>\n",
       "      <td>0</td>\n",
       "      <td>2001.0</td>\n",
       "      <td>118</td>\n",
       "      <td>Comedy,Fantasy,Romance</td>\n",
       "      <td>Romance</td>\n",
       "    </tr>\n",
       "    <tr>\n",
       "      <th>1</th>\n",
       "      <td>tt0043139</td>\n",
       "      <td>movie</td>\n",
       "      <td>Life of a Beijing Policeman</td>\n",
       "      <td>Wo zhe yi bei zi</td>\n",
       "      <td>0</td>\n",
       "      <td>2013.0</td>\n",
       "      <td>120</td>\n",
       "      <td>Drama,History</td>\n",
       "      <td>Drama</td>\n",
       "    </tr>\n",
       "    <tr>\n",
       "      <th>1</th>\n",
       "      <td>tt0043139</td>\n",
       "      <td>movie</td>\n",
       "      <td>Life of a Beijing Policeman</td>\n",
       "      <td>Wo zhe yi bei zi</td>\n",
       "      <td>0</td>\n",
       "      <td>2013.0</td>\n",
       "      <td>120</td>\n",
       "      <td>Drama,History</td>\n",
       "      <td>History</td>\n",
       "    </tr>\n",
       "    <tr>\n",
       "      <th>2</th>\n",
       "      <td>tt0062336</td>\n",
       "      <td>movie</td>\n",
       "      <td>The Tango of the Widower and Its Distorting Mi...</td>\n",
       "      <td>El tango del viudo y su espejo deformante</td>\n",
       "      <td>0</td>\n",
       "      <td>2020.0</td>\n",
       "      <td>70</td>\n",
       "      <td>Drama</td>\n",
       "      <td>Drama</td>\n",
       "    </tr>\n",
       "    <tr>\n",
       "      <th>3</th>\n",
       "      <td>tt0069049</td>\n",
       "      <td>movie</td>\n",
       "      <td>The Other Side of the Wind</td>\n",
       "      <td>The Other Side of the Wind</td>\n",
       "      <td>0</td>\n",
       "      <td>2018.0</td>\n",
       "      <td>122</td>\n",
       "      <td>Drama</td>\n",
       "      <td>Drama</td>\n",
       "    </tr>\n",
       "    <tr>\n",
       "      <th>4</th>\n",
       "      <td>tt0088751</td>\n",
       "      <td>movie</td>\n",
       "      <td>The Naked Monster</td>\n",
       "      <td>The Naked Monster</td>\n",
       "      <td>0</td>\n",
       "      <td>2005.0</td>\n",
       "      <td>100</td>\n",
       "      <td>Comedy,Horror,Sci-Fi</td>\n",
       "      <td>Comedy</td>\n",
       "    </tr>\n",
       "    <tr>\n",
       "      <th>4</th>\n",
       "      <td>tt0088751</td>\n",
       "      <td>movie</td>\n",
       "      <td>The Naked Monster</td>\n",
       "      <td>The Naked Monster</td>\n",
       "      <td>0</td>\n",
       "      <td>2005.0</td>\n",
       "      <td>100</td>\n",
       "      <td>Comedy,Horror,Sci-Fi</td>\n",
       "      <td>Horror</td>\n",
       "    </tr>\n",
       "    <tr>\n",
       "      <th>4</th>\n",
       "      <td>tt0088751</td>\n",
       "      <td>movie</td>\n",
       "      <td>The Naked Monster</td>\n",
       "      <td>The Naked Monster</td>\n",
       "      <td>0</td>\n",
       "      <td>2005.0</td>\n",
       "      <td>100</td>\n",
       "      <td>Comedy,Horror,Sci-Fi</td>\n",
       "      <td>Sci-Fi</td>\n",
       "    </tr>\n",
       "  </tbody>\n",
       "</table>\n",
       "</div>"
      ],
      "text/plain": [
       "      tconst titleType                                       primaryTitle  \\\n",
       "0  tt0035423     movie                                     Kate & Leopold   \n",
       "0  tt0035423     movie                                     Kate & Leopold   \n",
       "0  tt0035423     movie                                     Kate & Leopold   \n",
       "1  tt0043139     movie                        Life of a Beijing Policeman   \n",
       "1  tt0043139     movie                        Life of a Beijing Policeman   \n",
       "2  tt0062336     movie  The Tango of the Widower and Its Distorting Mi...   \n",
       "3  tt0069049     movie                         The Other Side of the Wind   \n",
       "4  tt0088751     movie                                  The Naked Monster   \n",
       "4  tt0088751     movie                                  The Naked Monster   \n",
       "4  tt0088751     movie                                  The Naked Monster   \n",
       "\n",
       "                               originalTitle  isAdult  startYear  \\\n",
       "0                             Kate & Leopold        0     2001.0   \n",
       "0                             Kate & Leopold        0     2001.0   \n",
       "0                             Kate & Leopold        0     2001.0   \n",
       "1                           Wo zhe yi bei zi        0     2013.0   \n",
       "1                           Wo zhe yi bei zi        0     2013.0   \n",
       "2  El tango del viudo y su espejo deformante        0     2020.0   \n",
       "3                 The Other Side of the Wind        0     2018.0   \n",
       "4                          The Naked Monster        0     2005.0   \n",
       "4                          The Naked Monster        0     2005.0   \n",
       "4                          The Naked Monster        0     2005.0   \n",
       "\n",
       "   runtimeMinutes                  genres genres_split  \n",
       "0             118  Comedy,Fantasy,Romance       Comedy  \n",
       "0             118  Comedy,Fantasy,Romance      Fantasy  \n",
       "0             118  Comedy,Fantasy,Romance      Romance  \n",
       "1             120           Drama,History        Drama  \n",
       "1             120           Drama,History      History  \n",
       "2              70                   Drama        Drama  \n",
       "3             122                   Drama        Drama  \n",
       "4             100    Comedy,Horror,Sci-Fi       Comedy  \n",
       "4             100    Comedy,Horror,Sci-Fi       Horror  \n",
       "4             100    Comedy,Horror,Sci-Fi       Sci-Fi  "
      ]
     },
     "execution_count": 17,
     "metadata": {},
     "output_type": "execute_result"
    }
   ],
   "source": [
    "# Display the first (2) rows\n",
    "exploded_genres_df.head(10)"
   ]
  },
  {
   "cell_type": "markdown",
   "id": "caafd51f",
   "metadata": {},
   "source": [
    "- Finally, use .unique() to get the unique genres from the genres_split column"
   ]
  },
  {
   "cell_type": "code",
   "execution_count": 18,
   "id": "207ab3e4",
   "metadata": {},
   "outputs": [],
   "source": [
    "# Create a list of unique genres from the genres_split column\n",
    "unique_genres = sorted(exploded_genres_df['genres_split'].unique())"
   ]
  },
  {
   "cell_type": "code",
   "execution_count": 19,
   "id": "2e5a5dfd",
   "metadata": {},
   "outputs": [
    {
     "data": {
      "text/plain": [
       "['Action',\n",
       " 'Adult',\n",
       " 'Adventure',\n",
       " 'Animation',\n",
       " 'Biography',\n",
       " 'Comedy',\n",
       " 'Crime',\n",
       " 'Drama',\n",
       " 'Family',\n",
       " 'Fantasy',\n",
       " 'Game-Show',\n",
       " 'History',\n",
       " 'Horror',\n",
       " 'Music',\n",
       " 'Musical',\n",
       " 'Mystery',\n",
       " 'News',\n",
       " 'Reality-TV',\n",
       " 'Romance',\n",
       " 'Sci-Fi',\n",
       " 'Sport',\n",
       " 'Talk-Show',\n",
       " 'Thriller',\n",
       " 'War',\n",
       " 'Western']"
      ]
     },
     "execution_count": 19,
     "metadata": {},
     "output_type": "execute_result"
    }
   ],
   "source": [
    "# Display the list of unique genres\n",
    "unique_genres"
   ]
  },
  {
   "cell_type": "code",
   "execution_count": 20,
   "id": "4fdfaa1b",
   "metadata": {},
   "outputs": [
    {
     "data": {
      "text/plain": [
       "25"
      ]
     },
     "execution_count": 20,
     "metadata": {},
     "output_type": "execute_result"
    }
   ],
   "source": [
    "len(unique_genres)"
   ]
  },
  {
   "cell_type": "markdown",
   "id": "3dae4d6a",
   "metadata": {},
   "source": [
    "### Create a new title_genres table"
   ]
  },
  {
   "cell_type": "markdown",
   "id": "5eafc604",
   "metadata": {},
   "source": [
    "-  Create a new title_genres from the exploded df.\n",
    "    - We only want the tconst and genres_split columns"
   ]
  },
  {
   "cell_type": "code",
   "execution_count": 22,
   "id": "c9bb003f",
   "metadata": {},
   "outputs": [],
   "source": [
    "# Save just tconst and genres_split as a new df\n",
    "title_genres_df = exploded_genres_df[['tconst', 'genres_split']].copy()"
   ]
  },
  {
   "cell_type": "code",
   "execution_count": 23,
   "id": "d4a2c735",
   "metadata": {},
   "outputs": [
    {
     "data": {
      "text/html": [
       "<div>\n",
       "<style scoped>\n",
       "    .dataframe tbody tr th:only-of-type {\n",
       "        vertical-align: middle;\n",
       "    }\n",
       "\n",
       "    .dataframe tbody tr th {\n",
       "        vertical-align: top;\n",
       "    }\n",
       "\n",
       "    .dataframe thead th {\n",
       "        text-align: right;\n",
       "    }\n",
       "</style>\n",
       "<table border=\"1\" class=\"dataframe\">\n",
       "  <thead>\n",
       "    <tr style=\"text-align: right;\">\n",
       "      <th></th>\n",
       "      <th>tconst</th>\n",
       "      <th>genres_split</th>\n",
       "    </tr>\n",
       "  </thead>\n",
       "  <tbody>\n",
       "    <tr>\n",
       "      <th>0</th>\n",
       "      <td>tt0035423</td>\n",
       "      <td>Comedy</td>\n",
       "    </tr>\n",
       "    <tr>\n",
       "      <th>0</th>\n",
       "      <td>tt0035423</td>\n",
       "      <td>Fantasy</td>\n",
       "    </tr>\n",
       "    <tr>\n",
       "      <th>0</th>\n",
       "      <td>tt0035423</td>\n",
       "      <td>Romance</td>\n",
       "    </tr>\n",
       "    <tr>\n",
       "      <th>1</th>\n",
       "      <td>tt0043139</td>\n",
       "      <td>Drama</td>\n",
       "    </tr>\n",
       "    <tr>\n",
       "      <th>1</th>\n",
       "      <td>tt0043139</td>\n",
       "      <td>History</td>\n",
       "    </tr>\n",
       "  </tbody>\n",
       "</table>\n",
       "</div>"
      ],
      "text/plain": [
       "      tconst genres_split\n",
       "0  tt0035423       Comedy\n",
       "0  tt0035423      Fantasy\n",
       "0  tt0035423      Romance\n",
       "1  tt0043139        Drama\n",
       "1  tt0043139      History"
      ]
     },
     "execution_count": 23,
     "metadata": {},
     "output_type": "execute_result"
    }
   ],
   "source": [
    "# Display the first (5) rows\n",
    "title_genres_df.head()"
   ]
  },
  {
   "cell_type": "markdown",
   "id": "676f8380",
   "metadata": {},
   "source": [
    "### Create a genre mapper dictionary to replace string genres with integers"
   ]
  },
  {
   "cell_type": "code",
   "execution_count": 24,
   "id": "fad52b7c",
   "metadata": {},
   "outputs": [],
   "source": [
    "# Make a dictionary\n",
    "# with list of unique genres as the key and the new integer id as values\n",
    "genre_id_map = dict(zip(unique_genres, range(len(unique_genres))))"
   ]
  },
  {
   "cell_type": "code",
   "execution_count": 25,
   "id": "bd75c5aa",
   "metadata": {},
   "outputs": [
    {
     "data": {
      "text/plain": [
       "{'Action': 0,\n",
       " 'Adult': 1,\n",
       " 'Adventure': 2,\n",
       " 'Animation': 3,\n",
       " 'Biography': 4,\n",
       " 'Comedy': 5,\n",
       " 'Crime': 6,\n",
       " 'Drama': 7,\n",
       " 'Family': 8,\n",
       " 'Fantasy': 9,\n",
       " 'Game-Show': 10,\n",
       " 'History': 11,\n",
       " 'Horror': 12,\n",
       " 'Music': 13,\n",
       " 'Musical': 14,\n",
       " 'Mystery': 15,\n",
       " 'News': 16,\n",
       " 'Reality-TV': 17,\n",
       " 'Romance': 18,\n",
       " 'Sci-Fi': 19,\n",
       " 'Sport': 20,\n",
       " 'Talk-Show': 21,\n",
       " 'Thriller': 22,\n",
       " 'War': 23,\n",
       " 'Western': 24}"
      ]
     },
     "execution_count": 25,
     "metadata": {},
     "output_type": "execute_result"
    }
   ],
   "source": [
    "# Display the genre_id_map dictionary\n",
    "genre_id_map"
   ]
  },
  {
   "cell_type": "markdown",
   "id": "6fef71d0",
   "metadata": {},
   "source": [
    "### Replace the string genres in title_genres with the new integer ids.\n",
    "- Create a new genre_id column using the genre_map dictionary with either .map or .replace.\n",
    "- Next, drop the \"genres_split\" column.\n",
    "- The title_genres table is now ready for the MySQL database"
   ]
  },
  {
   "cell_type": "code",
   "execution_count": 26,
   "id": "a1100dfc",
   "metadata": {},
   "outputs": [],
   "source": [
    "# Create a genre_id column using the genre_map dictionary with .map\n",
    "title_genres_df['genre_id'] = title_genres_df['genres_split'].map(genre_id_map)\n",
    "# Drop the \"genres_split\" column\n",
    "title_genres_df = title_genres_df.drop(columns='genres_split')"
   ]
  },
  {
   "cell_type": "code",
   "execution_count": 27,
   "id": "27c102ca",
   "metadata": {},
   "outputs": [
    {
     "data": {
      "text/html": [
       "<div>\n",
       "<style scoped>\n",
       "    .dataframe tbody tr th:only-of-type {\n",
       "        vertical-align: middle;\n",
       "    }\n",
       "\n",
       "    .dataframe tbody tr th {\n",
       "        vertical-align: top;\n",
       "    }\n",
       "\n",
       "    .dataframe thead th {\n",
       "        text-align: right;\n",
       "    }\n",
       "</style>\n",
       "<table border=\"1\" class=\"dataframe\">\n",
       "  <thead>\n",
       "    <tr style=\"text-align: right;\">\n",
       "      <th></th>\n",
       "      <th>tconst</th>\n",
       "      <th>genre_id</th>\n",
       "    </tr>\n",
       "  </thead>\n",
       "  <tbody>\n",
       "    <tr>\n",
       "      <th>0</th>\n",
       "      <td>tt0035423</td>\n",
       "      <td>5</td>\n",
       "    </tr>\n",
       "    <tr>\n",
       "      <th>0</th>\n",
       "      <td>tt0035423</td>\n",
       "      <td>9</td>\n",
       "    </tr>\n",
       "    <tr>\n",
       "      <th>0</th>\n",
       "      <td>tt0035423</td>\n",
       "      <td>18</td>\n",
       "    </tr>\n",
       "    <tr>\n",
       "      <th>1</th>\n",
       "      <td>tt0043139</td>\n",
       "      <td>7</td>\n",
       "    </tr>\n",
       "    <tr>\n",
       "      <th>1</th>\n",
       "      <td>tt0043139</td>\n",
       "      <td>11</td>\n",
       "    </tr>\n",
       "  </tbody>\n",
       "</table>\n",
       "</div>"
      ],
      "text/plain": [
       "      tconst  genre_id\n",
       "0  tt0035423         5\n",
       "0  tt0035423         9\n",
       "0  tt0035423        18\n",
       "1  tt0043139         7\n",
       "1  tt0043139        11"
      ]
     },
     "execution_count": 27,
     "metadata": {},
     "output_type": "execute_result"
    }
   ],
   "source": [
    "# Display the first (5) rows\n",
    "title_genres_df.head()"
   ]
  },
  {
   "cell_type": "markdown",
   "id": "b1a24780",
   "metadata": {},
   "source": [
    "### Convert the genre map dictionary into a dataframe"
   ]
  },
  {
   "cell_type": "code",
   "execution_count": 28,
   "id": "8cc7ac0b",
   "metadata": {},
   "outputs": [],
   "source": [
    "# Create a dataframe from the genre_map dictionary with .map\n",
    "genres_df = pd.DataFrame({'genre_name': genre_id_map.keys(),\n",
    "                           'genre_id': genre_id_map.values()})"
   ]
  },
  {
   "cell_type": "code",
   "execution_count": 29,
   "id": "a2f9e6b0",
   "metadata": {},
   "outputs": [
    {
     "data": {
      "text/html": [
       "<div>\n",
       "<style scoped>\n",
       "    .dataframe tbody tr th:only-of-type {\n",
       "        vertical-align: middle;\n",
       "    }\n",
       "\n",
       "    .dataframe tbody tr th {\n",
       "        vertical-align: top;\n",
       "    }\n",
       "\n",
       "    .dataframe thead th {\n",
       "        text-align: right;\n",
       "    }\n",
       "</style>\n",
       "<table border=\"1\" class=\"dataframe\">\n",
       "  <thead>\n",
       "    <tr style=\"text-align: right;\">\n",
       "      <th></th>\n",
       "      <th>genre_name</th>\n",
       "      <th>genre_id</th>\n",
       "    </tr>\n",
       "  </thead>\n",
       "  <tbody>\n",
       "    <tr>\n",
       "      <th>0</th>\n",
       "      <td>Action</td>\n",
       "      <td>0</td>\n",
       "    </tr>\n",
       "    <tr>\n",
       "      <th>1</th>\n",
       "      <td>Adult</td>\n",
       "      <td>1</td>\n",
       "    </tr>\n",
       "    <tr>\n",
       "      <th>2</th>\n",
       "      <td>Adventure</td>\n",
       "      <td>2</td>\n",
       "    </tr>\n",
       "    <tr>\n",
       "      <th>3</th>\n",
       "      <td>Animation</td>\n",
       "      <td>3</td>\n",
       "    </tr>\n",
       "    <tr>\n",
       "      <th>4</th>\n",
       "      <td>Biography</td>\n",
       "      <td>4</td>\n",
       "    </tr>\n",
       "  </tbody>\n",
       "</table>\n",
       "</div>"
      ],
      "text/plain": [
       "  genre_name  genre_id\n",
       "0     Action         0\n",
       "1      Adult         1\n",
       "2  Adventure         2\n",
       "3  Animation         3\n",
       "4  Biography         4"
      ]
     },
     "execution_count": 29,
     "metadata": {},
     "output_type": "execute_result"
    }
   ],
   "source": [
    "# Display the first (5) rows\n",
    "genres_df.head()"
   ]
  },
  {
   "cell_type": "markdown",
   "id": "0b221154",
   "metadata": {},
   "source": [
    "## Create SQL Movies Database"
   ]
  },
  {
   "cell_type": "markdown",
   "id": "1c41d299",
   "metadata": {},
   "source": [
    "### Saving the MySQL tables with tconst as the primary key."
   ]
  },
  {
   "cell_type": "code",
   "execution_count": 45,
   "id": "d11e8a3f",
   "metadata": {},
   "outputs": [
    {
     "data": {
      "text/plain": [
       "dict_keys(['username', 'password'])"
      ]
     },
     "execution_count": 45,
     "metadata": {},
     "output_type": "execute_result"
    }
   ],
   "source": [
    "with open('C:/Users/Melissa/.secret/mysql.json') as f:\n",
    "    login = json.load(f)\n",
    "\n",
    "# Display the MySQL login keys\n",
    "login.keys()"
   ]
  },
  {
   "cell_type": "code",
   "execution_count": 46,
   "id": "ec5fcd98",
   "metadata": {},
   "outputs": [
    {
     "data": {
      "text/plain": [
       "dict_keys(['username', 'password'])"
      ]
     },
     "execution_count": 46,
     "metadata": {},
     "output_type": "execute_result"
    }
   ],
   "source": [
    "# Obtain the MySQL login username and password\n",
    "with open(r\"C:\\Users\\Melissa\\.secret\\mysql.json\") as f:\n",
    "    login = json.load(f)\n",
    "# Display the MySQL login keys\n",
    "login.keys()"
   ]
  },
  {
   "cell_type": "code",
   "execution_count": null,
   "id": "aeadaee9",
   "metadata": {},
   "outputs": [],
   "source": []
  }
 ],
 "metadata": {
  "kernelspec": {
   "display_name": "Python (dojo-env)",
   "language": "python",
   "name": "dojo-env"
  },
  "language_info": {
   "codemirror_mode": {
    "name": "ipython",
    "version": 3
   },
   "file_extension": ".py",
   "mimetype": "text/x-python",
   "name": "python",
   "nbconvert_exporter": "python",
   "pygments_lexer": "ipython3",
   "version": "3.9.15"
  },
  "toc": {
   "base_numbering": 1,
   "nav_menu": {},
   "number_sections": false,
   "sideBar": true,
   "skip_h1_title": false,
   "title_cell": "Table of Contents",
   "title_sidebar": "Contents",
   "toc_cell": false,
   "toc_position": {
    "height": "calc(100% - 180px)",
    "left": "10px",
    "top": "150px",
    "width": "329.236px"
   },
   "toc_section_display": true,
   "toc_window_display": true
  }
 },
 "nbformat": 4,
 "nbformat_minor": 5
}
